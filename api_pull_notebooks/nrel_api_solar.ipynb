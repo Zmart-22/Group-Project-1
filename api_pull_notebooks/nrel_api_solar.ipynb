{
 "cells": [
  {
   "cell_type": "code",
   "execution_count": 1,
   "id": "56d18680",
   "metadata": {},
   "outputs": [],
   "source": [
    "import json\n",
    "import requests\n",
    "import pandas as pd\n",
    "import matplotlib as plt\n"
   ]
  },
  {
   "cell_type": "code",
   "execution_count": 32,
   "id": "26b3b2f4",
   "metadata": {},
   "outputs": [
    {
     "name": "stdout",
     "output_type": "stream",
     "text": [
      "{'lat': 39.938073, 'lon': -105.811609}\n"
     ]
    }
   ],
   "source": [
    "api_key=\"Fc3KylfUgsbgWGm9egW534dAjfNQXFHnA3i7qFF4\"\n",
    "lat=39.938073\n",
    "lon= -105.811609\n",
    "  \n",
    "params={\n",
    "    'lat':lat,\n",
    "    'lon':lon,\n",
    "}\n",
    "print (params)"
   ]
  },
  {
   "cell_type": "code",
   "execution_count": null,
   "id": "818eb7e7",
   "metadata": {},
   "outputs": [],
   "source": [
    "# base_url=f'http://developer.nrel.gov/api/solar/solar_resource/v1.json?api_key={api_key}&lat=40&lon=-105'"
   ]
  },
  {
   "cell_type": "code",
   "execution_count": 34,
   "id": "8f9b4298",
   "metadata": {},
   "outputs": [
    {
     "name": "stdout",
     "output_type": "stream",
     "text": [
      "http://developer.nrel.gov/api/solar/solar_resource/v1.json?api_key=Fc3KylfUgsbgWGm9egW534dAjfNQXFHnA3i7qFF4&lat=39.938073&lon=-105.811609\n",
      "{\n",
      "    \"errors\": [],\n",
      "    \"inputs\": {\n",
      "        \"lat\": \"39.938073\",\n",
      "        \"lon\": \"-105.811609\"\n",
      "    },\n",
      "    \"metadata\": {\n",
      "        \"sources\": [\n",
      "            \"Perez-SUNY/NREL, 2012\"\n",
      "        ]\n",
      "    },\n",
      "    \"outputs\": {\n",
      "        \"avg_dni\": {\n",
      "            \"annual\": 5.46,\n",
      "            \"monthly\": {\n",
      "                \"apr\": 5.79,\n",
      "                \"aug\": 5.61,\n",
      "                \"dec\": 4.4,\n",
      "                \"feb\": 4.36,\n",
      "                \"jan\": 4.15,\n",
      "                \"jul\": 6.43,\n",
      "                \"jun\": 7.28,\n",
      "                \"mar\": 4.83,\n",
      "                \"may\": 5.99,\n",
      "                \"nov\": 4.97,\n",
      "                \"oct\": 5.49,\n",
      "                \"sep\": 6.19\n",
      "            }\n",
      "        },\n",
      "        \"avg_ghi\": {\n",
      "            \"annual\": 4.33,\n",
      "            \"monthly\": {\n",
      "                \"apr\": 5.33,\n",
      "                \"aug\": 5.41,\n",
      "                \"dec\": 2.03,\n",
      "                \"feb\": 2.89,\n",
      "                \"jan\": 2.15,\n",
      "                \"jul\": 6.2,\n",
      "                \"jun\": 6.79,\n",
      "                \"mar\": 4.05,\n",
      "                \"may\": 6.06,\n",
      "                \"nov\": 2.57,\n",
      "                \"oct\": 3.58,\n",
      "                \"sep\": 4.82\n",
      "            }\n",
      "        },\n",
      "        \"avg_lat_tilt\": {\n",
      "            \"annual\": 5.13,\n",
      "            \"monthly\": {\n",
      "                \"apr\": 5.63,\n",
      "                \"aug\": 5.43,\n",
      "                \"dec\": 4.12,\n",
      "                \"feb\": 4.45,\n",
      "                \"jan\": 4.01,\n",
      "                \"jul\": 5.57,\n",
      "                \"jun\": 5.92,\n",
      "                \"mar\": 5.07,\n",
      "                \"may\": 5.61,\n",
      "                \"nov\": 4.68,\n",
      "                \"oct\": 5.27,\n",
      "                \"sep\": 5.79\n",
      "            }\n",
      "        }\n",
      "    },\n",
      "    \"version\": \"1.0.0\",\n",
      "    \"warnings\": []\n",
      "}\n"
     ]
    }
   ],
   "source": [
    "base_url=f'http://developer.nrel.gov/api/solar/solar_resource/v1.json?api_key={api_key}&lat={lat}&lon={lon}'\n",
    "print (base_url)\n",
    "response=requests.get(base_url).json()\n",
    "\n",
    "print(json.dumps(response, indent =4, sort_keys=True))\n",
    "                      \n"
   ]
  },
  {
   "cell_type": "code",
   "execution_count": 36,
   "id": "a348043c",
   "metadata": {},
   "outputs": [
    {
     "ename": "SyntaxError",
     "evalue": "incomplete input (3230184720.py, line 5)",
     "output_type": "error",
     "traceback": [
      "\u001b[0;36m  Cell \u001b[0;32mIn[36], line 5\u001b[0;36m\u001b[0m\n\u001b[0;31m    #systems that track the sun throughout the day.\u001b[0m\n\u001b[0m                                                    ^\u001b[0m\n\u001b[0;31mSyntaxError\u001b[0m\u001b[0;31m:\u001b[0m incomplete input\n"
     ]
    }
   ],
   "source": [
    "# Average Direct Normal Irradiance: This data provides monthly average and annual average daily total solar resource averaged over surface cells\n",
    "# of 0.1 degrees in both latitude and longitude, or about 10 km in size. The values returned are kWh/m2/day \n",
    "# ( kilowatt hours per square meter per day). The insolation values represent the resource available to concentrating \n",
    "# systems that track the sun throughout the day.\n",
    "\n",
    "def avg_dni():\n",
    "    "
   ]
  },
  {
   "cell_type": "code",
   "execution_count": null,
   "id": "d868cbd9",
   "metadata": {},
   "outputs": [],
   "source": [
    "# Average Global Horizontal Irradiance: This data provides monthly average and annual average daily total \n",
    "# solar resource averaged over surface cells of 0.1 degrees in both latitude and longitude, or about 10 km in size.\n",
    "# The values returned are kWh/m2/day (kilowatt hours per square meter per day). \n",
    "# The insolation values represent the global horizontal resource - the geometric sum of direct normal \n",
    "# and diffuse irradiance components, representing total energy available on a planar surface.\n",
    "\n",
    "def avg_ghi():\n"
   ]
  }
 ],
 "metadata": {
  "kernelspec": {
   "display_name": "Python 3 (ipykernel)",
   "language": "python",
   "name": "python3"
  },
  "language_info": {
   "codemirror_mode": {
    "name": "ipython",
    "version": 3
   },
   "file_extension": ".py",
   "mimetype": "text/x-python",
   "name": "python",
   "nbconvert_exporter": "python",
   "pygments_lexer": "ipython3",
   "version": "3.10.9"
  }
 },
 "nbformat": 4,
 "nbformat_minor": 5
}
